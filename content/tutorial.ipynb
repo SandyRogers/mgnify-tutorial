{
 "cells": [
  {
   "cell_type": "markdown",
   "metadata": {},
   "source": [
    "<img src=\"../content/resources/mgnify_logo.png\" width=\"240px\"/>\n",
    "\n",
    "# Tutorial\n",
    "This tutorial is a self-guided journey through some of the features of the [MGnify](https://www.ebi.ac.uk/metagenomics) platform.\n",
    "We will look at how to search for, browse, and download different kinds of datasets derived from metagenomic samples.\n",
    "\n",
    "This tutorial is a JupyterLite notebook, which means there is a Python interpreter running in your web browser. This requires an up to date browser. The Python that runs here is a bit different to \"normal\" Python, so keep that in mind if you're trying to write your own code here.\n",
    "\n",
    "Most of the notebook is instructions and quiz questions, but there is also a bit of Python code if you're interested in how to access the data programatically. Knowing and using Python is not necessary to follow most of this tutorial.\n",
    "\n",
    "<div style=\"background: #d0debb; padding: 16px; border-radius: 4px; margin: 8px\">\n",
    "To use this notebook, click the <b>Run</b> menu at the top, and then <b>Run all cells</b>.\n",
    "</div>\n",
    "\n",
    "You can also run individual cells using the Play icon at the top, or type shift-enter in any cell to run it.\n",
    "\n",
    "For help, contact `sandyr@ebi.ac.uk`\n",
    "\n",
    "---\n",
    "\n",
    "# Part 1: Exploring MGnify Studies\n",
    "## Task 1.1: Search for a MGnify study\n",
    "\n",
    "<img src=\"../content/resources/rov-dall-e.webp\" width=\"240px\" title=\"AI (Dall-E) generated image of a robotic operated vehicle on the sea floor\" alt=\"AI (Dall-E) generated image of a robotic operated vehicle on the sea floor\"/>\n",
    "\n",
    "Go to the [MGnify website](https://www.ebi.ac.uk/metagenomics), and **use the \"Text Search\" feature to search for studies of marine sediment collected using an \"ROV\" (that's a _remote operated vehicle_) from the Environmental > Aquatic > Marine > Sediment biome.**\n",
    "\n",
    "_Hint: the use of an ROV is only mentioned in the study description, there is no specific metadata field for this._"
   ]
  },
  {
   "cell_type": "code",
   "execution_count": 1,
   "metadata": {},
   "outputs": [
    {
     "name": "stdout",
     "output_type": "stream",
     "text": [
      "\n",
      "\u001b[1m[\u001b[0m\u001b[34;49mnotice\u001b[0m\u001b[1;39;49m]\u001b[0m\u001b[39;49m A new release of pip is available: \u001b[0m\u001b[31;49m23.2.1\u001b[0m\u001b[39;49m -> \u001b[0m\u001b[32;49m24.2\u001b[0m\n",
      "\u001b[1m[\u001b[0m\u001b[34;49mnotice\u001b[0m\u001b[1;39;49m]\u001b[0m\u001b[39;49m To update, run: \u001b[0m\u001b[32;49mpip install --upgrade pip\u001b[0m\n",
      "Note: you may need to restart the kernel to use updated packages.\n",
      "Requirement already satisfied: pandas in /Users/mahfouz/Code/mgnify/mgnify-tutorial/venv/lib/python3.9/site-packages (2.2.2)\n",
      "Requirement already satisfied: numpy>=1.22.4 in /Users/mahfouz/Code/mgnify/mgnify-tutorial/venv/lib/python3.9/site-packages (from pandas) (2.0.2)\n",
      "Requirement already satisfied: python-dateutil>=2.8.2 in /Users/mahfouz/Code/mgnify/mgnify-tutorial/venv/lib/python3.9/site-packages (from pandas) (2.9.0.post0)\n",
      "Requirement already satisfied: pytz>=2020.1 in /Users/mahfouz/Code/mgnify/mgnify-tutorial/venv/lib/python3.9/site-packages (from pandas) (2024.1)\n",
      "Requirement already satisfied: tzdata>=2022.7 in /Users/mahfouz/Code/mgnify/mgnify-tutorial/venv/lib/python3.9/site-packages (from pandas) (2024.1)\n",
      "Requirement already satisfied: six>=1.5 in /Users/mahfouz/Code/mgnify/mgnify-tutorial/venv/lib/python3.9/site-packages (from python-dateutil>=2.8.2->pandas) (1.16.0)\n",
      "\n",
      "\u001b[1m[\u001b[0m\u001b[34;49mnotice\u001b[0m\u001b[1;39;49m]\u001b[0m\u001b[39;49m A new release of pip is available: \u001b[0m\u001b[31;49m23.2.1\u001b[0m\u001b[39;49m -> \u001b[0m\u001b[32;49m24.2\u001b[0m\n",
      "\u001b[1m[\u001b[0m\u001b[34;49mnotice\u001b[0m\u001b[1;39;49m]\u001b[0m\u001b[39;49m To update, run: \u001b[0m\u001b[32;49mpip install --upgrade pip\u001b[0m\n",
      "Note: you may need to restart the kernel to use updated packages.\n"
     ]
    }
   ],
   "source": [
    "%pip install -q ipywidgets\n",
    "%pip install pandas"
   ]
  },
  {
   "cell_type": "code",
   "execution_count": 2,
   "metadata": {},
   "outputs": [],
   "source": [
    "# %%javascript\n",
    "\n",
    "# // Make all code cells read-only\n",
    "# var readOnlyCells = [1]; // Enter the cell index (starting from 0)\n",
    "\n",
    "# for (let i of readOnlyCells) {\n",
    "#     var cell = Jupyter.notebook.get_cell(i);\n",
    "#     cell.code_mirror.setOption('readOnly', true);\n",
    "# }"
   ]
  },
  {
   "cell_type": "code",
   "execution_count": 3,
   "metadata": {},
   "outputs": [],
   "source": [
    "from utils.quiz import check_answer, _encode_answer, question"
   ]
  },
  {
   "cell_type": "code",
   "execution_count": 4,
   "metadata": {},
   "outputs": [
    {
     "data": {
      "application/vnd.jupyter.widget-view+json": {
       "model_id": "4b9a97dbd88442068d327f11c580ea00",
       "version_major": 2,
       "version_minor": 0
      },
      "text/plain": [
       "Tab(children=(VBox(children=(HTML(value='What is the MGnify Study accession (MGYS) of the first study that mat…"
      ]
     },
     "metadata": {},
     "output_type": "display_data"
    }
   ],
   "source": [
    "question(\n",
    "    \"What is the MGnify Study accession (MGYS) of the first study that matches those parameters?\",\n",
    "    \"MGYSxxx\",\n",
    "    [b'bWd5czAwMDA1ODUx']\n",
    ")"
   ]
  },
  {
   "cell_type": "markdown",
   "metadata": {},
   "source": [
    "## Task 1.2: Find metadata for a study\n",
    "\n",
    "Follow the link on the study result above, to reach the detail page for that study on MGnify.\n",
    "\n"
   ]
  },
  {
   "cell_type": "code",
   "execution_count": 5,
   "metadata": {},
   "outputs": [
    {
     "data": {
      "application/vnd.jupyter.widget-view+json": {
       "model_id": "df60169af680404fbe116fe63ac97698",
       "version_major": 2,
       "version_minor": 0
      },
      "text/plain": [
       "Tab(children=(VBox(children=(HTML(value=\"Off the coast of which continent were most the study's samples collec…"
      ]
     },
     "metadata": {},
     "output_type": "display_data"
    }
   ],
   "source": [
    "question(\n",
    "    \"Off the coast of which continent were most the study's samples collected?\",\n",
    "    \"\",\n",
    "    [b'c291dGggYW1lcmljYQ=='],\n",
    "    [\"Africa\", \"Antarctica\", \"Asia\", \"Europe\", \"North America\", \"Oceania\", \"South America\"]\n",
    ")"
   ]
  },
  {
   "cell_type": "markdown",
   "metadata": {},
   "source": [
    "Not all metadata are neatly organised in structured fields!\n",
    "\n",
    "Very often, the information you're interested in is only mentioned in the text descriptions of studies and samples uploaded to ENA, or even only in the \"Methods\" section of a publication.\n",
    "\n",
    "**Use the \"metadata from Europe PMC Annotations\" feature to discover published mentions of metadata about this study.**"
   ]
  },
  {
   "cell_type": "code",
   "execution_count": 6,
   "metadata": {},
   "outputs": [
    {
     "data": {
      "application/vnd.jupyter.widget-view+json": {
       "model_id": "9c7c94f6f3cc4933906cefd92e2969d5",
       "version_major": 2,
       "version_minor": 0
      },
      "text/plain": [
       "Tab(children=(VBox(children=(HTML(value='What is the deepest sampling *site* mentioned in the publication anno…"
      ]
     },
     "metadata": {},
     "output_type": "display_data"
    }
   ],
   "source": [
    "question(\n",
    "    \"What is the deepest sampling *site* mentioned in the publication annotations?\",\n",
    "    \"\",\n",
    "    [b'OTMwMCAtIDEwMDEwIG0='],\n",
    "    [\"1000 m\", \"2560 m\", \"7720 - 8085 m\", \"9300 - 10010 m\"]\n",
    ")"
   ]
  },
  {
   "cell_type": "markdown",
   "metadata": {},
   "source": [
    "## Task 1.3: Finding common taxa in a study\n",
    "\n",
    "MGnify produces \"Analysis summaries\" for each Study. These summarise the taxonomic annotations over all of the sequencing runs (or assemblies) in the study. They are useful for getting a quick overview of the count of taxa present in each analysed sample.\n",
    "\n",
    "For a study of amplicon sequences, sometimes there will be multiple analysis summaries originating from different databases (e.g. SSU, LSU, ITSone).\n",
    "\n",
    "**For the study [MGYS00005851](https://www.ebi.ac.uk/metagenomics/studies/MGYS00005851#analysis), find the most common Bacterial phyla using the SSU taxonomic summary.**"
   ]
  },
  {
   "cell_type": "markdown",
   "metadata": {},
   "source": [
    "You could do this by downloading a TSV file and analysing it using something like Excel or R.\n",
    "\n",
    "Or, you can use the following Python code for a programmatic approach."
   ]
  },
  {
   "cell_type": "code",
   "execution_count": 7,
   "metadata": {},
   "outputs": [
    {
     "name": "stderr",
     "output_type": "stream",
     "text": [
      "/Users/mahfouz/Code/mgnify/mgnify-tutorial/venv/lib/python3.9/site-packages/urllib3/__init__.py:35: NotOpenSSLWarning: urllib3 v2 only supports OpenSSL 1.1.1+, currently the 'ssl' module is compiled with 'LibreSSL 2.8.3'. See: https://github.com/urllib3/urllib3/issues/3020\n",
      "  warnings.warn(\n"
     ]
    }
   ],
   "source": [
    "import json\n",
    "# from js import fetch\n",
    "import pandas as pd\n",
    "from io import StringIO\n",
    "import requests"
   ]
  },
  {
   "cell_type": "code",
   "execution_count": 8,
   "metadata": {},
   "outputs": [
    {
     "name": "stdout",
     "output_type": "stream",
     "text": [
      "  superkingdom     kingdom                        phylum  \\\n",
      "0      Archaea  Unassigned    Candidatus_Aenigmarchaeota   \n",
      "1      Archaea  Unassigned      Candidatus_Altiarchaeota   \n",
      "2      Archaea  Unassigned     Candidatus_Bathyarchaeota   \n",
      "3      Archaea  Unassigned     Candidatus_Diapherotrites   \n",
      "4      Archaea  Unassigned  Candidatus_Heimdallarchaeota   \n",
      "\n",
      "   ERR5008478_MERGED_FASTQ  ERR3684824_MERGED_FASTQ  ERR3684808_MERGED_FASTQ  \\\n",
      "0                        1                        0                        0   \n",
      "1                        0                        0                        0   \n",
      "2                        1                        0                        0   \n",
      "3                     1940                        1                        0   \n",
      "4                        0                        0                        0   \n",
      "\n",
      "   ERR3630748_MERGED_FASTQ  ERR3630676_MERGED_FASTQ  ERR3630672_MERGED_FASTQ  \\\n",
      "0                        0                        0                        0   \n",
      "1                        0                        0                        0   \n",
      "2                        0                        0                        0   \n",
      "3                        0                        0                      364   \n",
      "4                        0                        0                        0   \n",
      "\n",
      "   ERR3630669_MERGED_FASTQ  ...  ERR4176225_MERGED_FASTQ  \\\n",
      "0                        0  ...                        0   \n",
      "1                        0  ...                        0   \n",
      "2                        0  ...                        0   \n",
      "3                     1412  ...                        0   \n",
      "4                        2  ...                        0   \n",
      "\n",
      "   ERR4176226_MERGED_FASTQ  ERR4176227_MERGED_FASTQ  ERR4176228_MERGED_FASTQ  \\\n",
      "0                        0                        0                        0   \n",
      "1                        0                        0                        0   \n",
      "2                        0                        0                        0   \n",
      "3                        0                        0                        0   \n",
      "4                        0                        0                        0   \n",
      "\n",
      "   ERR4176229_MERGED_FASTQ  ERR4176230_MERGED_FASTQ  ERR4176231_MERGED_FASTQ  \\\n",
      "0                        0                        0                        0   \n",
      "1                        0                        0                        0   \n",
      "2                        0                        0                        0   \n",
      "3                        0                        0                        0   \n",
      "4                        0                        0                        1   \n",
      "\n",
      "   ERR4176232_MERGED_FASTQ  ERR4176233_MERGED_FASTQ  ERR4176234_MERGED_FASTQ  \n",
      "0                        0                        0                        0  \n",
      "1                        0                        0                        0  \n",
      "2                        0                        0                        0  \n",
      "3                        0                        0                        0  \n",
      "4                        0                        0                        0  \n",
      "\n",
      "[5 rows x 1761 columns]\n"
     ]
    }
   ],
   "source": [
    "# # Download the TSV file programmatically:\n",
    "# res = await fetch('https://www.ebi.ac.uk/metagenomics/api/v1/studies/MGYS00005851/pipelines/5.0/file/ERP116704_phylum_taxonomy_abundances_SSU_v5.0.tsv')\n",
    "# text = await res.text()\n",
    "# # in a \"normal\" Python environment, this could be e.g. res = requests.get(\"https://...\"); text = res.text()\n",
    "# # here we use js.fetch since we're running Python in the browser.\n",
    "\n",
    "# # Read the TSV into a pandas dataframe\n",
    "# taxonomies = pd.read_csv(StringIO(text), sep='\\t')\n",
    "# taxonomies\n",
    "\n",
    "# Download the TSV file programmatically using requests\n",
    "url = 'https://www.ebi.ac.uk/metagenomics/api/v1/studies/MGYS00005851/pipelines/5.0/file/ERP116704_phylum_taxonomy_abundances_SSU_v5.0.tsv'\n",
    "res = requests.get(url)\n",
    "\n",
    "# Check if the request was successful\n",
    "if res.status_code == 200:\n",
    "    text = res.text  # Get the text of the response\n",
    "    \n",
    "    # Read the TSV into a pandas dataframe\n",
    "    taxonomies = pd.read_csv(StringIO(text), sep='\\t')\n",
    "    print(taxonomies.head())  # Show the first few rows\n",
    "else:\n",
    "    print(f\"Failed to fetch data: {res.status_code}\")"
   ]
  },
  {
   "cell_type": "code",
   "execution_count": 9,
   "metadata": {},
   "outputs": [
    {
     "data": {
      "text/html": [
       "<div>\n",
       "<style scoped>\n",
       "    .dataframe tbody tr th:only-of-type {\n",
       "        vertical-align: middle;\n",
       "    }\n",
       "\n",
       "    .dataframe tbody tr th {\n",
       "        vertical-align: top;\n",
       "    }\n",
       "\n",
       "    .dataframe thead th {\n",
       "        text-align: right;\n",
       "    }\n",
       "</style>\n",
       "<table border=\"1\" class=\"dataframe\">\n",
       "  <thead>\n",
       "    <tr style=\"text-align: right;\">\n",
       "      <th></th>\n",
       "      <th>superkingdom</th>\n",
       "      <th>kingdom</th>\n",
       "      <th>ERR5008478_MERGED_FASTQ</th>\n",
       "      <th>ERR3684824_MERGED_FASTQ</th>\n",
       "      <th>ERR3684808_MERGED_FASTQ</th>\n",
       "      <th>ERR3630748_MERGED_FASTQ</th>\n",
       "      <th>ERR3630676_MERGED_FASTQ</th>\n",
       "      <th>ERR3630672_MERGED_FASTQ</th>\n",
       "      <th>ERR3630669_MERGED_FASTQ</th>\n",
       "      <th>ERR3630659_MERGED_FASTQ</th>\n",
       "      <th>...</th>\n",
       "      <th>ERR4176226_MERGED_FASTQ</th>\n",
       "      <th>ERR4176227_MERGED_FASTQ</th>\n",
       "      <th>ERR4176228_MERGED_FASTQ</th>\n",
       "      <th>ERR4176229_MERGED_FASTQ</th>\n",
       "      <th>ERR4176230_MERGED_FASTQ</th>\n",
       "      <th>ERR4176231_MERGED_FASTQ</th>\n",
       "      <th>ERR4176232_MERGED_FASTQ</th>\n",
       "      <th>ERR4176233_MERGED_FASTQ</th>\n",
       "      <th>ERR4176234_MERGED_FASTQ</th>\n",
       "      <th>study_total</th>\n",
       "    </tr>\n",
       "    <tr>\n",
       "      <th>phylum</th>\n",
       "      <th></th>\n",
       "      <th></th>\n",
       "      <th></th>\n",
       "      <th></th>\n",
       "      <th></th>\n",
       "      <th></th>\n",
       "      <th></th>\n",
       "      <th></th>\n",
       "      <th></th>\n",
       "      <th></th>\n",
       "      <th></th>\n",
       "      <th></th>\n",
       "      <th></th>\n",
       "      <th></th>\n",
       "      <th></th>\n",
       "      <th></th>\n",
       "      <th></th>\n",
       "      <th></th>\n",
       "      <th></th>\n",
       "      <th></th>\n",
       "      <th></th>\n",
       "    </tr>\n",
       "  </thead>\n",
       "  <tbody>\n",
       "    <tr>\n",
       "      <th>Proteobacteria</th>\n",
       "      <td>Bacteria</td>\n",
       "      <td>Unassigned</td>\n",
       "      <td>37</td>\n",
       "      <td>33776</td>\n",
       "      <td>16121</td>\n",
       "      <td>0</td>\n",
       "      <td>0</td>\n",
       "      <td>213497</td>\n",
       "      <td>174253</td>\n",
       "      <td>0</td>\n",
       "      <td>...</td>\n",
       "      <td>81</td>\n",
       "      <td>115</td>\n",
       "      <td>5322</td>\n",
       "      <td>437532</td>\n",
       "      <td>439099</td>\n",
       "      <td>1600792</td>\n",
       "      <td>183</td>\n",
       "      <td>146</td>\n",
       "      <td>0</td>\n",
       "      <td>259519007</td>\n",
       "    </tr>\n",
       "    <tr>\n",
       "      <th>Planctomycetes</th>\n",
       "      <td>Bacteria</td>\n",
       "      <td>Unassigned</td>\n",
       "      <td>20</td>\n",
       "      <td>3</td>\n",
       "      <td>302</td>\n",
       "      <td>0</td>\n",
       "      <td>0</td>\n",
       "      <td>55002</td>\n",
       "      <td>53882</td>\n",
       "      <td>0</td>\n",
       "      <td>...</td>\n",
       "      <td>0</td>\n",
       "      <td>0</td>\n",
       "      <td>632</td>\n",
       "      <td>31</td>\n",
       "      <td>33</td>\n",
       "      <td>599</td>\n",
       "      <td>0</td>\n",
       "      <td>0</td>\n",
       "      <td>0</td>\n",
       "      <td>68839941</td>\n",
       "    </tr>\n",
       "    <tr>\n",
       "      <th>Acidobacteria</th>\n",
       "      <td>Bacteria</td>\n",
       "      <td>Unassigned</td>\n",
       "      <td>8</td>\n",
       "      <td>4</td>\n",
       "      <td>9</td>\n",
       "      <td>2</td>\n",
       "      <td>1</td>\n",
       "      <td>49712</td>\n",
       "      <td>37510</td>\n",
       "      <td>0</td>\n",
       "      <td>...</td>\n",
       "      <td>0</td>\n",
       "      <td>0</td>\n",
       "      <td>26</td>\n",
       "      <td>14</td>\n",
       "      <td>23</td>\n",
       "      <td>123</td>\n",
       "      <td>0</td>\n",
       "      <td>0</td>\n",
       "      <td>0</td>\n",
       "      <td>30461148</td>\n",
       "    </tr>\n",
       "    <tr>\n",
       "      <th>Bacteroidetes</th>\n",
       "      <td>Bacteria</td>\n",
       "      <td>Unassigned</td>\n",
       "      <td>11</td>\n",
       "      <td>17</td>\n",
       "      <td>1333</td>\n",
       "      <td>0</td>\n",
       "      <td>0</td>\n",
       "      <td>17983</td>\n",
       "      <td>30775</td>\n",
       "      <td>0</td>\n",
       "      <td>...</td>\n",
       "      <td>0</td>\n",
       "      <td>1</td>\n",
       "      <td>2</td>\n",
       "      <td>523</td>\n",
       "      <td>516</td>\n",
       "      <td>10</td>\n",
       "      <td>0</td>\n",
       "      <td>0</td>\n",
       "      <td>0</td>\n",
       "      <td>25702397</td>\n",
       "    </tr>\n",
       "    <tr>\n",
       "      <th>Chloroflexi</th>\n",
       "      <td>Bacteria</td>\n",
       "      <td>Unassigned</td>\n",
       "      <td>0</td>\n",
       "      <td>1</td>\n",
       "      <td>10</td>\n",
       "      <td>0</td>\n",
       "      <td>0</td>\n",
       "      <td>16231</td>\n",
       "      <td>10801</td>\n",
       "      <td>1</td>\n",
       "      <td>...</td>\n",
       "      <td>0</td>\n",
       "      <td>0</td>\n",
       "      <td>1</td>\n",
       "      <td>7</td>\n",
       "      <td>3</td>\n",
       "      <td>10</td>\n",
       "      <td>0</td>\n",
       "      <td>0</td>\n",
       "      <td>0</td>\n",
       "      <td>25525359</td>\n",
       "    </tr>\n",
       "  </tbody>\n",
       "</table>\n",
       "<p>5 rows × 1761 columns</p>\n",
       "</div>"
      ],
      "text/plain": [
       "               superkingdom     kingdom  ERR5008478_MERGED_FASTQ  \\\n",
       "phylum                                                             \n",
       "Proteobacteria     Bacteria  Unassigned                       37   \n",
       "Planctomycetes     Bacteria  Unassigned                       20   \n",
       "Acidobacteria      Bacteria  Unassigned                        8   \n",
       "Bacteroidetes      Bacteria  Unassigned                       11   \n",
       "Chloroflexi        Bacteria  Unassigned                        0   \n",
       "\n",
       "                ERR3684824_MERGED_FASTQ  ERR3684808_MERGED_FASTQ  \\\n",
       "phylum                                                             \n",
       "Proteobacteria                    33776                    16121   \n",
       "Planctomycetes                        3                      302   \n",
       "Acidobacteria                         4                        9   \n",
       "Bacteroidetes                        17                     1333   \n",
       "Chloroflexi                           1                       10   \n",
       "\n",
       "                ERR3630748_MERGED_FASTQ  ERR3630676_MERGED_FASTQ  \\\n",
       "phylum                                                             \n",
       "Proteobacteria                        0                        0   \n",
       "Planctomycetes                        0                        0   \n",
       "Acidobacteria                         2                        1   \n",
       "Bacteroidetes                         0                        0   \n",
       "Chloroflexi                           0                        0   \n",
       "\n",
       "                ERR3630672_MERGED_FASTQ  ERR3630669_MERGED_FASTQ  \\\n",
       "phylum                                                             \n",
       "Proteobacteria                   213497                   174253   \n",
       "Planctomycetes                    55002                    53882   \n",
       "Acidobacteria                     49712                    37510   \n",
       "Bacteroidetes                     17983                    30775   \n",
       "Chloroflexi                       16231                    10801   \n",
       "\n",
       "                ERR3630659_MERGED_FASTQ  ...  ERR4176226_MERGED_FASTQ  \\\n",
       "phylum                                   ...                            \n",
       "Proteobacteria                        0  ...                       81   \n",
       "Planctomycetes                        0  ...                        0   \n",
       "Acidobacteria                         0  ...                        0   \n",
       "Bacteroidetes                         0  ...                        0   \n",
       "Chloroflexi                           1  ...                        0   \n",
       "\n",
       "                ERR4176227_MERGED_FASTQ  ERR4176228_MERGED_FASTQ  \\\n",
       "phylum                                                             \n",
       "Proteobacteria                      115                     5322   \n",
       "Planctomycetes                        0                      632   \n",
       "Acidobacteria                         0                       26   \n",
       "Bacteroidetes                         1                        2   \n",
       "Chloroflexi                           0                        1   \n",
       "\n",
       "                ERR4176229_MERGED_FASTQ  ERR4176230_MERGED_FASTQ  \\\n",
       "phylum                                                             \n",
       "Proteobacteria                   437532                   439099   \n",
       "Planctomycetes                       31                       33   \n",
       "Acidobacteria                        14                       23   \n",
       "Bacteroidetes                       523                      516   \n",
       "Chloroflexi                           7                        3   \n",
       "\n",
       "                ERR4176231_MERGED_FASTQ  ERR4176232_MERGED_FASTQ  \\\n",
       "phylum                                                             \n",
       "Proteobacteria                  1600792                      183   \n",
       "Planctomycetes                      599                        0   \n",
       "Acidobacteria                       123                        0   \n",
       "Bacteroidetes                        10                        0   \n",
       "Chloroflexi                          10                        0   \n",
       "\n",
       "                ERR4176233_MERGED_FASTQ  ERR4176234_MERGED_FASTQ  study_total  \n",
       "phylum                                                                         \n",
       "Proteobacteria                      146                        0    259519007  \n",
       "Planctomycetes                        0                        0     68839941  \n",
       "Acidobacteria                         0                        0     30461148  \n",
       "Bacteroidetes                         0                        0     25702397  \n",
       "Chloroflexi                           0                        0     25525359  \n",
       "\n",
       "[5 rows x 1761 columns]"
      ]
     },
     "execution_count": 9,
     "metadata": {},
     "output_type": "execute_result"
    }
   ],
   "source": [
    "# Sum the taxonomy counts across all runs in the study\n",
    "taxonomies['study_total'] = taxonomies.filter(like=\"ERR\").sum(axis=1)\n",
    "\n",
    "# Limit to phyla in the bacteria superkingdom\n",
    "bacteria = taxonomies[taxonomies.superkingdom == 'Bacteria']\n",
    "bacteria.set_index('phylum', inplace=True)\n",
    "\n",
    "# Show just the most prevalent phyla\n",
    "bacteria.sort_values(by=\"study_total\", ascending=False).head()"
   ]
  },
  {
   "cell_type": "markdown",
   "metadata": {},
   "source": [
    "## Task 1.4: Think about the caveats...\n",
    "\n",
    "**Was what we just did (summing bacterial tax counts across all samples of the study) a good idea?**\n",
    "\n",
    "Things to consider: (Hint: Check the study page's \"Description\" and publication annotations from Schauberger _et al._)\n",
    "1. Were all of the sequencing runs targetting the 16s SSU region, so designed to barcode bacteria?\n",
    "2. Were the primers used likely to sequence the same taxa across all samples?\n",
    "\n",
    "<details>\n",
    "<summary>Tell me</summary>\n",
    "The study description and publication mention that all samples were prepared with primers targetting SSUs, but that some were targetting 16s and some 18s. This means that it <b>is</b> fair to be only using the SSU taxonomic analysis summary across the study. However, it also mentions that some samples were prepared with primers specific to archaea, so there is likely a bias to different taxa in different samples. (In fact, a few different primers were used as can be seen by digging further into the metadata of the study, samples and publication.) This means our basic summation across all samples is likely not an unbiased measurement.\n",
    "</details>"
   ]
  },
  {
   "cell_type": "markdown",
   "metadata": {},
   "source": [
    "---\n",
    "\n",
    "# Part 2: Exploring MGnify Analyses\n",
    "\n",
    "## Task 2.1: Search for a MGnify analysis\n",
    "\n",
    "Let's say we're particularly interested in Chloroflexi phylum (also known as Chloroflexota) – the third most prevalent Bacterial phylum in the study we were looking at in Part 1. \n",
    "\n",
    "Go to the [MGnify website](https://www.ebi.ac.uk/metagenomics/search/analyses), and **use the \"Text Search\" feature to search for _Sample analyses_, that contain Organisms in the Bacteria > Chloroflexi lineage, also collected from the Environmental > Aquatic > Marine > Sediment biome. Limit the search to samples analysed with MGnify's pipeline version 5.0 (the latest).**"
   ]
  },
  {
   "cell_type": "code",
   "execution_count": 10,
   "metadata": {},
   "outputs": [
    {
     "data": {
      "application/vnd.jupyter.widget-view+json": {
       "model_id": "9e618f5cdfc445458e177053e2792522",
       "version_major": 2,
       "version_minor": 0
      },
      "text/plain": [
       "Tab(children=(VBox(children=(HTML(value=\"Look at the 'Experiment type' filter on the left of the search result…"
      ]
     },
     "metadata": {},
     "output_type": "display_data"
    }
   ],
   "source": [
    "question(\n",
    "    \"Look at the 'Experiment type' filter on the left of the search results: there are some <b>assembly</b> analyses.<br/>Why might we want to look into these next?\",\n",
    "    \"\",\n",
    "    [b'dG8gZGlzY292ZXIgZnVuY3Rpb25hbCBhbm5vdGF0aW9ucw=='],\n",
    "    [\"To browse complete genomes\", \"To get more taxonomic diversity\", \"To discover functional annotations\"]\n",
    ")"
   ]
  },
  {
   "cell_type": "markdown",
   "metadata": {},
   "source": [
    "## Task 2.2: Find annotations within an analysis\n",
    "**Limit your search to just those Assembly analyses.**\n",
    "\n",
    "There are more filters we could use here, like location, or filtering to find analysis where a specific GO or InterPro functional annotation has been found on the assembled contigs.\n",
    "\n",
    "For now, **scroll through the list to find MGYA00594115, and click it to open the analysis page.**"
   ]
  },
  {
   "cell_type": "code",
   "execution_count": 11,
   "metadata": {},
   "outputs": [
    {
     "data": {
      "application/vnd.jupyter.widget-view+json": {
       "model_id": "58bff974c54e421b83b440bb3d1486da",
       "version_major": 2,
       "version_minor": 0
      },
      "text/plain": [
       "Tab(children=(VBox(children=(HTML(value=\"According to the charts in the <b>Taxonomic analysis</b> section's SS…"
      ]
     },
     "metadata": {},
     "output_type": "display_data"
    }
   ],
   "source": [
    "question(\n",
    "    \"According to the charts in the <b>Taxonomic analysis</b> section's SSU results, what fraction of the phylum composition is assigned to Chloroflexi?\",\n",
    "    \"x.yy %\",\n",
    "    [b'NC40OSAl', b'NC40OSU=', b'NC40OQ=='],\n",
    ")"
   ]
  },
  {
   "cell_type": "markdown",
   "metadata": {},
   "source": [
    "Now turn to the functional analysis information, in particular **the Pathways/Systems section.** Functional annotations of a metagenomic assembly are based on comparison of proteins coding sequences found in the assembly's contigs to databases of protein function such as KEGG orthologs. KEGG modules are pathways of KEGG orthologs, and a pathway's completeness is determined by the presence or absence of the minimum number of orthologs present to complete that pathway."
   ]
  },
  {
   "cell_type": "code",
   "execution_count": 12,
   "metadata": {
    "jupyter": {
     "source_hidden": true
    }
   },
   "outputs": [
    {
     "data": {
      "application/vnd.jupyter.widget-view+json": {
       "model_id": "d909b078a7cb41b6a552502fcc9f633c",
       "version_major": 2,
       "version_minor": 0
      },
      "text/plain": [
       "Tab(children=(VBox(children=(HTML(value=\"What is the first 'complete' KEGG Module for this assembly analysis?<…"
      ]
     },
     "metadata": {},
     "output_type": "display_data"
    }
   ],
   "source": [
    "question(\n",
    "    \"What is the first 'complete' KEGG Module for this assembly analysis?<br/>(Complete means all of the Kegg Orthologs in that module are present in the assembly.)\",\n",
    "    \"Mxxxxx\",\n",
    "    [b'bTAwMDAx', b'MDAwMDE='],\n",
    ")"
   ]
  },
  {
   "cell_type": "markdown",
   "metadata": {},
   "source": [
    "## Task 2.3: Think about what this means...\n",
    "\n",
    "**Does this mean that the Kegg Module you just found is necesarily a function performed by organisms within the taxa we originally searched for (Chloroflexi)?**\n",
    "\n",
    "_Consider that the functional annotations are on contigs from the entire assembly..._"
   ]
  },
  {
   "cell_type": "markdown",
   "metadata": {},
   "source": [
    "---\n",
    "\n",
    "# Part 3: Metagenomic Assembled Genomes\n",
    "\n",
    "To find functional annotations for a specific species, we can use metagenome assembly genomes (MAGs) – draft genomes made by taxonomically binning assembled contigs.\n",
    "[MGnify Genomes](https://www.ebi.ac.uk/metagenomics/browse/genomes) is MGnify's resource for MAGs, where MAGs derived from various biomes are organised into species-level clusters and annotated with a suite of functional annotation tools.\n",
    "\n",
    "## Task 3.1: Find Chloroflexi MAGs\n",
    "\n",
    "**Go to the [MGnify Genomes website](https://www.ebi.ac.uk/metagenomics/browse/genomes)**.\n",
    "\n",
    "Given the biome we started this journey from, **which of the MGnify Genomes catalogues would you guess we're mostly like to find MAGs from the Chloroflexi phylum in?**\n",
    "\n",
    "Let's check. **Go to the \"All genomes\" list, and use the Filter to search for `Chloroflex`** (since this will catch lineages using either the `Chloroflexi` or `Chloroflexota` naming scheme)."
   ]
  },
  {
   "cell_type": "code",
   "execution_count": 13,
   "metadata": {},
   "outputs": [
    {
     "data": {
      "application/vnd.jupyter.widget-view+json": {
       "model_id": "9e163fa7185c481e8d3ec657bb80582b",
       "version_major": 2,
       "version_minor": 0
      },
      "text/plain": [
       "Tab(children=(VBox(children=(HTML(value='Which catalogue are most of the MAGs found in?'), Dropdown(descriptio…"
      ]
     },
     "metadata": {},
     "output_type": "display_data"
    }
   ],
   "source": [
    "question(\n",
    "    \"Which catalogue are most of the MAGs found in?\",\n",
    "    \"\",\n",
    "    [b'bWFyaW5l'],\n",
    "    [\"Marine\", \"Human Oral\", \"Zebrafish fecal\"]\n",
    ")"
   ]
  },
  {
   "cell_type": "markdown",
   "metadata": {},
   "source": [
    "## Task 3.2: Check functional annotations of a MAG\n",
    "\n",
    "From the list, **open the MAG for the species `Casp-Chloro-G4`**."
   ]
  },
  {
   "cell_type": "code",
   "execution_count": 14,
   "metadata": {},
   "outputs": [
    {
     "data": {
      "application/vnd.jupyter.widget-view+json": {
       "model_id": "3218d54cef434d43bc5022a00380ee28",
       "version_major": 2,
       "version_minor": 0
      },
      "text/plain": [
       "Tab(children=(VBox(children=(HTML(value='What is the most prevalent KEGG Module for this genome?'), Text(value…"
      ]
     },
     "metadata": {},
     "output_type": "display_data"
    }
   ],
   "source": [
    "question(\n",
    "    \"What is the most prevalent KEGG Module for this genome?\",\n",
    "    \"Mxxxxx\",\n",
    "    [b'bTAwMTc4', b'MDAxNzg='],\n",
    ")"
   ]
  },
  {
   "cell_type": "markdown",
   "metadata": {},
   "source": [
    "_Note that there are \"Download\" files available for both the assembly analysis we looked at before, and for this genome analysis, that include full listings of the Kegg annotations amongst others. You could download these files similarly to the study summary TSV file we analysed in Part 1, to compare these programmatically._"
   ]
  },
  {
   "cell_type": "markdown",
   "metadata": {},
   "source": [
    "## Task 3.3: Cross-catalogue searching\n",
    "Looking at all the data you have available for this MAG, and exploring the other features available in the MGnify Genomes resource, can you work out how you might search for genomes similar to this one in other catalogues?\n",
    "\n",
    "<details>\n",
    "<summary>Tell me</summary>\n",
    "The <a href=\"https://www.ebi.ac.uk/metagenomics/browse/genomes?browse-by=mag-search\">\"MAG search\" feature</a> uses <a href=\"https://sourmash.readthedocs.io/en/latest/\">Sourmash</a> to search genomes against genomes, based on sequence similarity. You could download the FASTA file of the MAG MGYG000297014, from its Downloads tab, and then upload this as the query genome to the MAG Search, selecting all catalogues as the target. At the time of writing, this search will only match the genome we downloaded from the marine catalogue.\n",
    "</details>"
   ]
  },
  {
   "cell_type": "markdown",
   "metadata": {},
   "source": [
    "---\n",
    "\n",
    "# Further reading:\n",
    "\n",
    "### Latest MGnify publication\n",
    "\n",
    "> Richardson L, Allen B, Baldi G, et al. [MGnify: the microbiome sequence data analysis resource in 2023.](https://europepmc.org/article/PMC/PMC9825492) Nucleic Acids Research. 2023 Jan;51(D1):D753-D759. DOI: 10.1093/nar/gkac1080. PMID: 36477304; PMCID: PMC9825492.\n",
    "\n",
    "### MGnify Genomes publication\n",
    "> Gurbich TA, Almeida A, Beracochea M, et al. [MGnify Genomes: A Resource for Biome-specific Microbial Genome Catalogues.](https://europepmc.org/article/MED/36806692) Journal of Molecular Biology. 2023 Jul;435(14):168016. DOI: 10.1016/j.jmb.2023.168016. PMID: 36806692; PMCID: PMC10318097.\n",
    "\n",
    "\n",
    "### Documentation\n",
    "> [docs.mgnify.org](https://docs.mgnify.org)\n",
    "\n",
    "### MGnify training courses\n",
    "> [MGnify on EBI Training](https://www.ebi.ac.uk/training/search-results?query=mgnify)\n",
    "\n",
    "### Updates\n",
    "> [@MGnifyDB](https://twitter.com/mgnifyDB)"
   ]
  },
  {
   "cell_type": "code",
   "execution_count": null,
   "metadata": {},
   "outputs": [],
   "source": []
  }
 ],
 "metadata": {
  "kernelspec": {
   "display_name": "Python 3 (ipykernel)",
   "language": "python",
   "name": "python3"
  },
  "language_info": {
   "codemirror_mode": {
    "name": "ipython",
    "version": 3
   },
   "file_extension": ".py",
   "mimetype": "text/x-python",
   "name": "python",
   "nbconvert_exporter": "python",
   "pygments_lexer": "ipython3",
   "version": "3.9.6"
  }
 },
 "nbformat": 4,
 "nbformat_minor": 4
}
