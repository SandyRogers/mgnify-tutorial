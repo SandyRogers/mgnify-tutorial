{
  "metadata": {
    "kernelspec": {
      "name": "python",
      "display_name": "Python (Pyodide)",
      "language": "python"
    },
    "language_info": {
      "codemirror_mode": {
        "name": "python",
        "version": 3
      },
      "file_extension": ".py",
      "mimetype": "text/x-python",
      "name": "python",
      "nbconvert_exporter": "python",
      "pygments_lexer": "ipython3",
      "version": "3.8"
    }
  },
  "nbformat_minor": 4,
  "nbformat": 4,
  "cells": [
    {
      "cell_type": "markdown",
      "source": "# MGnify tutorial\nThis tutorial is a self-guided journey through some of the feature of the [MGnify](https://www.ebi.ac.uk/metagenomics) platform.\nWe will look at how to search for, browse, and download different kinds of datasets derived from metagenomic samples.\n\nThis tutorial is a JupyterLite notebook, which means there is a Python interpreter running in your web browser. This requires an up to date browser. The Python that runs here is a bit different to \"normal\" Python, so keep that in mind if you're trying to write your own code here.\n\nMost of the notebook is instructions and quiz questions, but there is also a bit of Python code if you're interested in how to access the data programatically. Knowing and using Python is not necessary to follow most of this tutorial.\n\n<div style=\"background: #d0debb; padding: 16px; border-radius: 4px; margin: 8px\">\nTo use this notebook, click the <b>Run</b> menu at the top, and then <b>Run all cells</b>.\n</div>\n\nYou can also run individual cells using the Play icon at the top, or type shift-enter in any cell to run it.\n\nFor help, contact `sandyr@ebi.ac.uk`\n\n---\n\n# Part 1: Exploring MGnify Studies\n## Task 1.1: Search for a MGnify study\n\nGo to the [MGnify website](https://www.ebi.ac.uk/metagenomics), and **use the \"Text Search\" feature to search for studies of marine sediment collected using an \"ROV\" (that's a _remote operated vehicle_) from the Environmental > Aquatic > Marine > Sediment biome.**\n\n_Hint: the use of an ROV is only mentioned in the study description, there is no specific metadata field for this._",
      "metadata": {}
    },
    {
      "cell_type": "code",
      "source": "%pip install -q ipywidgets",
      "metadata": {
        "trusted": true
      },
      "outputs": [],
      "execution_count": 2
    },
    {
      "cell_type": "code",
      "source": "from utils.quiz import check_answer, _encode_answer, question\n\nquestion(\n    \"What is the MGnify Study accession (MGYS) of the first study that matches those parameters?\",\n    \"MGYSxxx\",\n    [b'bWd5czAwMDA1ODUx']\n)",
      "metadata": {
        "trusted": true,
        "jupyter": {
          "source_hidden": true
        }
      },
      "outputs": [
        {
          "output_type": "display_data",
          "data": {
            "text/plain": "Tab(children=(VBox(children=(HTML(value='What is the MGnify Study accession (MGYS) of the first study that mat…",
            "application/vnd.jupyter.widget-view+json": {
              "version_major": 2,
              "version_minor": 0,
              "model_id": "e8faf5eebeee4d9f9fb9c23f12207ca7"
            }
          },
          "metadata": {}
        }
      ],
      "execution_count": 3
    },
    {
      "cell_type": "markdown",
      "source": "## Task 1.2: Find metadata for a study\n\nFollow the link on the study result above, to reach the detail page for that study on MGnify.\n\n",
      "metadata": {}
    },
    {
      "cell_type": "code",
      "source": "from utils.quiz import check_answer, _encode_answer, question\n\nquestion(\n    \"Off the coast of which continent were most the study's samples collected?\",\n    \"\",\n    [b'YWZyaWNh'],\n    [\"Africa\", \"Antarctica\", \"Asia\", \"Europe\", \"North America\", \"Oceania\", \"South America\"]\n)",
      "metadata": {
        "trusted": true,
        "jupyter": {
          "source_hidden": true
        }
      },
      "outputs": [
        {
          "output_type": "display_data",
          "data": {
            "text/plain": "Tab(children=(VBox(children=(Label(value=\"Off the coast of which continent were most the study's samples colle…",
            "application/vnd.jupyter.widget-view+json": {
              "version_major": 2,
              "version_minor": 0,
              "model_id": "21cfff1bb0f041158d7733f32d5dd68f"
            }
          },
          "metadata": {}
        }
      ],
      "execution_count": 4
    },
    {
      "cell_type": "markdown",
      "source": "Not all metadata are neatly organised in structured fields!\n\nVery often, the information you're interested in is only mentioned e.g. in the \"Methods\" section of a publication.\n\n**Use the \"metadata from Europe PMC Annotations\" feature to discover published mentions of metadata about this study.**",
      "metadata": {}
    },
    {
      "cell_type": "code",
      "source": "from utils.quiz import check_answer, _encode_answer, question\n\nquestion(\n    \"What is the deepest sampling *site* mentioned in the publication annotations?\",\n    \"\",\n    [b'OTMwMCAtIDEwMDEwIG0='],\n    [\"1000 m\", \"2560 m\", \"7720 - 8085 m\", \"9300 - 10010 m\"]\n)",
      "metadata": {
        "trusted": true,
        "jupyter": {
          "source_hidden": true
        }
      },
      "outputs": [
        {
          "output_type": "display_data",
          "data": {
            "text/plain": "Tab(children=(VBox(children=(Label(value='What is the deepest sampling *site* mentioned in the publication ann…",
            "application/vnd.jupyter.widget-view+json": {
              "version_major": 2,
              "version_minor": 0,
              "model_id": "93e597581b4b40238b09bbf9763ef521"
            }
          },
          "metadata": {}
        }
      ],
      "execution_count": 5
    },
    {
      "cell_type": "markdown",
      "source": "## Task 1.3: Finding common taxa in a study\n\nMGnify produces \"Analysis summaries\" for each Study. These summarise the taxonomic annotations over all of the sequencing runs (or assemblies) in the study. They are useful for getting a quick overview of the count of taxa present in each analysed sample.\n\nFor a study of amplicon sequences, sometimes there will be multiple analysis summaries originating from different databases (e.g. SSU, LSU, ITSone).\n\n**For the study [MGYS00005851](https://www.ebi.ac.uk/metagenomics/studies/MGYS00005851#analysis), find the most common Bacterial phyla using the SSU taxonomic summary.**",
      "metadata": {}
    },
    {
      "cell_type": "markdown",
      "source": "You could do this by downloading a TSV file and analysing it using something like Excel or R.\n\nOr, you can use the following Python code for a programmatic approach.",
      "metadata": {}
    },
    {
      "cell_type": "code",
      "source": "import json\nfrom js import fetch\nimport pandas as pd\nfrom io import StringIO",
      "metadata": {
        "trusted": true
      },
      "outputs": [],
      "execution_count": 13
    },
    {
      "cell_type": "code",
      "source": "# Download the TSV file programmatically:\nres = await fetch('https://www.ebi.ac.uk/metagenomics/api/v1/studies/MGYS00005851/pipelines/5.0/file/ERP116704_phylum_taxonomy_abundances_SSU_v5.0.tsv')\ntext = await res.text()\n# in a \"normal\" Python environment, this could be e.g. res = requests.get(\"https://...\"); text = res.text()\n# here we use js.fetch since we're running Python in the browser.\n\n# Read the TSV into a pandas dataframe\nitsone_taxonomies = pd.read_csv(StringIO(text), sep='\\t')\nitsone_taxonomies",
      "metadata": {
        "trusted": true
      },
      "outputs": [
        {
          "execution_count": 15,
          "output_type": "execute_result",
          "data": {
            "text/plain": "    superkingdom        kingdom                        phylum  \\\n0        Archaea     Unassigned    Candidatus_Aenigmarchaeota   \n1        Archaea     Unassigned      Candidatus_Altiarchaeota   \n2        Archaea     Unassigned     Candidatus_Bathyarchaeota   \n3        Archaea     Unassigned     Candidatus_Diapherotrites   \n4        Archaea     Unassigned  Candidatus_Heimdallarchaeota   \n..           ...            ...                           ...   \n197    Eukaryota     Unassigned                    Unassigned   \n198    Eukaryota  Viridiplantae                   Chlorophyta   \n199    Eukaryota  Viridiplantae                  Streptophyta   \n200    Eukaryota  Viridiplantae                    Unassigned   \n201   Unassigned     Unassigned                    Unassigned   \n\n     ERR5008478_MERGED_FASTQ  ERR3684824_MERGED_FASTQ  \\\n0                          1                        0   \n1                          0                        0   \n2                          1                        0   \n3                       1940                        1   \n4                          0                        0   \n..                       ...                      ...   \n197                        0                        0   \n198                        0                        0   \n199                        0                        0   \n200                        0                        0   \n201                        0                        0   \n\n     ERR3684808_MERGED_FASTQ  ERR3630748_MERGED_FASTQ  \\\n0                          0                        0   \n1                          0                        0   \n2                          0                        0   \n3                          0                        0   \n4                          0                        0   \n..                       ...                      ...   \n197                       22                        0   \n198                        0                        0   \n199                        0                        0   \n200                        1                        0   \n201                        0                        0   \n\n     ERR3630676_MERGED_FASTQ  ERR3630672_MERGED_FASTQ  \\\n0                          0                        0   \n1                          0                        0   \n2                          0                        0   \n3                          0                      364   \n4                          0                        0   \n..                       ...                      ...   \n197                    69163                        8   \n198                       57                        0   \n199                      711                        0   \n200                     1287                        0   \n201                        3                        2   \n\n     ERR3630669_MERGED_FASTQ  ...  ERR5007880_MERGED_FASTQ  \\\n0                          0  ...                        0   \n1                          0  ...                        0   \n2                          0  ...                        0   \n3                       1413  ...                     1025   \n4                          2  ...                        0   \n..                       ...  ...                      ...   \n197                       40  ...                       19   \n198                        0  ...                        0   \n199                        0  ...                        0   \n200                        1  ...                        0   \n201                       19  ...                       10   \n\n     ERR3684836_MERGED_FASTQ  ERR3684832_MERGED_FASTQ  \\\n0                          0                        0   \n1                          0                        0   \n2                          0                        0   \n3                          0                        0   \n4                          0                        0   \n..                       ...                      ...   \n197                        0                        0   \n198                        0                        0   \n199                        0                        0   \n200                        0                        0   \n201                        0                        0   \n\n     ERR3684828_MERGED_FASTQ  ERR3684820_MERGED_FASTQ  \\\n0                          0                        0   \n1                          0                        0   \n2                          0                        0   \n3                          0                        0   \n4                          0                        0   \n..                       ...                      ...   \n197                    15182                        0   \n198                        0                        0   \n199                       52                        0   \n200                      189                        0   \n201                        0                        0   \n\n     ERR3684817_MERGED_FASTQ  ERR3684816_MERGED_FASTQ  \\\n0                          0                        0   \n1                          0                        0   \n2                          0                        0   \n3                          0                        0   \n4                          0                        0   \n..                       ...                      ...   \n197                       16                    94043   \n198                      195                        0   \n199                        0                     8995   \n200                        0                    32958   \n201                        0                        0   \n\n     ERR3684814_MERGED_FASTQ  ERR3684812_MERGED_FASTQ  ERR3684811_MERGED_FASTQ  \n0                          0                        0                        0  \n1                          0                        0                        0  \n2                          0                        0                        0  \n3                          0                        0                        0  \n4                          0                        0                        0  \n..                       ...                      ...                      ...  \n197                        0                        0                        0  \n198                        0                        0                        0  \n199                        1                      120                        1  \n200                        0                        0                        0  \n201                        0                        0                        0  \n\n[202 rows x 1306 columns]",
            "text/html": "<div>\n<style scoped>\n    .dataframe tbody tr th:only-of-type {\n        vertical-align: middle;\n    }\n\n    .dataframe tbody tr th {\n        vertical-align: top;\n    }\n\n    .dataframe thead th {\n        text-align: right;\n    }\n</style>\n<table border=\"1\" class=\"dataframe\">\n  <thead>\n    <tr style=\"text-align: right;\">\n      <th></th>\n      <th>superkingdom</th>\n      <th>kingdom</th>\n      <th>phylum</th>\n      <th>ERR5008478_MERGED_FASTQ</th>\n      <th>ERR3684824_MERGED_FASTQ</th>\n      <th>ERR3684808_MERGED_FASTQ</th>\n      <th>ERR3630748_MERGED_FASTQ</th>\n      <th>ERR3630676_MERGED_FASTQ</th>\n      <th>ERR3630672_MERGED_FASTQ</th>\n      <th>ERR3630669_MERGED_FASTQ</th>\n      <th>...</th>\n      <th>ERR5007880_MERGED_FASTQ</th>\n      <th>ERR3684836_MERGED_FASTQ</th>\n      <th>ERR3684832_MERGED_FASTQ</th>\n      <th>ERR3684828_MERGED_FASTQ</th>\n      <th>ERR3684820_MERGED_FASTQ</th>\n      <th>ERR3684817_MERGED_FASTQ</th>\n      <th>ERR3684816_MERGED_FASTQ</th>\n      <th>ERR3684814_MERGED_FASTQ</th>\n      <th>ERR3684812_MERGED_FASTQ</th>\n      <th>ERR3684811_MERGED_FASTQ</th>\n    </tr>\n  </thead>\n  <tbody>\n    <tr>\n      <th>0</th>\n      <td>Archaea</td>\n      <td>Unassigned</td>\n      <td>Candidatus_Aenigmarchaeota</td>\n      <td>1</td>\n      <td>0</td>\n      <td>0</td>\n      <td>0</td>\n      <td>0</td>\n      <td>0</td>\n      <td>0</td>\n      <td>...</td>\n      <td>0</td>\n      <td>0</td>\n      <td>0</td>\n      <td>0</td>\n      <td>0</td>\n      <td>0</td>\n      <td>0</td>\n      <td>0</td>\n      <td>0</td>\n      <td>0</td>\n    </tr>\n    <tr>\n      <th>1</th>\n      <td>Archaea</td>\n      <td>Unassigned</td>\n      <td>Candidatus_Altiarchaeota</td>\n      <td>0</td>\n      <td>0</td>\n      <td>0</td>\n      <td>0</td>\n      <td>0</td>\n      <td>0</td>\n      <td>0</td>\n      <td>...</td>\n      <td>0</td>\n      <td>0</td>\n      <td>0</td>\n      <td>0</td>\n      <td>0</td>\n      <td>0</td>\n      <td>0</td>\n      <td>0</td>\n      <td>0</td>\n      <td>0</td>\n    </tr>\n    <tr>\n      <th>2</th>\n      <td>Archaea</td>\n      <td>Unassigned</td>\n      <td>Candidatus_Bathyarchaeota</td>\n      <td>1</td>\n      <td>0</td>\n      <td>0</td>\n      <td>0</td>\n      <td>0</td>\n      <td>0</td>\n      <td>0</td>\n      <td>...</td>\n      <td>0</td>\n      <td>0</td>\n      <td>0</td>\n      <td>0</td>\n      <td>0</td>\n      <td>0</td>\n      <td>0</td>\n      <td>0</td>\n      <td>0</td>\n      <td>0</td>\n    </tr>\n    <tr>\n      <th>3</th>\n      <td>Archaea</td>\n      <td>Unassigned</td>\n      <td>Candidatus_Diapherotrites</td>\n      <td>1940</td>\n      <td>1</td>\n      <td>0</td>\n      <td>0</td>\n      <td>0</td>\n      <td>364</td>\n      <td>1413</td>\n      <td>...</td>\n      <td>1025</td>\n      <td>0</td>\n      <td>0</td>\n      <td>0</td>\n      <td>0</td>\n      <td>0</td>\n      <td>0</td>\n      <td>0</td>\n      <td>0</td>\n      <td>0</td>\n    </tr>\n    <tr>\n      <th>4</th>\n      <td>Archaea</td>\n      <td>Unassigned</td>\n      <td>Candidatus_Heimdallarchaeota</td>\n      <td>0</td>\n      <td>0</td>\n      <td>0</td>\n      <td>0</td>\n      <td>0</td>\n      <td>0</td>\n      <td>2</td>\n      <td>...</td>\n      <td>0</td>\n      <td>0</td>\n      <td>0</td>\n      <td>0</td>\n      <td>0</td>\n      <td>0</td>\n      <td>0</td>\n      <td>0</td>\n      <td>0</td>\n      <td>0</td>\n    </tr>\n    <tr>\n      <th>...</th>\n      <td>...</td>\n      <td>...</td>\n      <td>...</td>\n      <td>...</td>\n      <td>...</td>\n      <td>...</td>\n      <td>...</td>\n      <td>...</td>\n      <td>...</td>\n      <td>...</td>\n      <td>...</td>\n      <td>...</td>\n      <td>...</td>\n      <td>...</td>\n      <td>...</td>\n      <td>...</td>\n      <td>...</td>\n      <td>...</td>\n      <td>...</td>\n      <td>...</td>\n      <td>...</td>\n    </tr>\n    <tr>\n      <th>197</th>\n      <td>Eukaryota</td>\n      <td>Unassigned</td>\n      <td>Unassigned</td>\n      <td>0</td>\n      <td>0</td>\n      <td>22</td>\n      <td>0</td>\n      <td>69163</td>\n      <td>8</td>\n      <td>40</td>\n      <td>...</td>\n      <td>19</td>\n      <td>0</td>\n      <td>0</td>\n      <td>15182</td>\n      <td>0</td>\n      <td>16</td>\n      <td>94043</td>\n      <td>0</td>\n      <td>0</td>\n      <td>0</td>\n    </tr>\n    <tr>\n      <th>198</th>\n      <td>Eukaryota</td>\n      <td>Viridiplantae</td>\n      <td>Chlorophyta</td>\n      <td>0</td>\n      <td>0</td>\n      <td>0</td>\n      <td>0</td>\n      <td>57</td>\n      <td>0</td>\n      <td>0</td>\n      <td>...</td>\n      <td>0</td>\n      <td>0</td>\n      <td>0</td>\n      <td>0</td>\n      <td>0</td>\n      <td>195</td>\n      <td>0</td>\n      <td>0</td>\n      <td>0</td>\n      <td>0</td>\n    </tr>\n    <tr>\n      <th>199</th>\n      <td>Eukaryota</td>\n      <td>Viridiplantae</td>\n      <td>Streptophyta</td>\n      <td>0</td>\n      <td>0</td>\n      <td>0</td>\n      <td>0</td>\n      <td>711</td>\n      <td>0</td>\n      <td>0</td>\n      <td>...</td>\n      <td>0</td>\n      <td>0</td>\n      <td>0</td>\n      <td>52</td>\n      <td>0</td>\n      <td>0</td>\n      <td>8995</td>\n      <td>1</td>\n      <td>120</td>\n      <td>1</td>\n    </tr>\n    <tr>\n      <th>200</th>\n      <td>Eukaryota</td>\n      <td>Viridiplantae</td>\n      <td>Unassigned</td>\n      <td>0</td>\n      <td>0</td>\n      <td>1</td>\n      <td>0</td>\n      <td>1287</td>\n      <td>0</td>\n      <td>1</td>\n      <td>...</td>\n      <td>0</td>\n      <td>0</td>\n      <td>0</td>\n      <td>189</td>\n      <td>0</td>\n      <td>0</td>\n      <td>32958</td>\n      <td>0</td>\n      <td>0</td>\n      <td>0</td>\n    </tr>\n    <tr>\n      <th>201</th>\n      <td>Unassigned</td>\n      <td>Unassigned</td>\n      <td>Unassigned</td>\n      <td>0</td>\n      <td>0</td>\n      <td>0</td>\n      <td>0</td>\n      <td>3</td>\n      <td>2</td>\n      <td>19</td>\n      <td>...</td>\n      <td>10</td>\n      <td>0</td>\n      <td>0</td>\n      <td>0</td>\n      <td>0</td>\n      <td>0</td>\n      <td>0</td>\n      <td>0</td>\n      <td>0</td>\n      <td>0</td>\n    </tr>\n  </tbody>\n</table>\n<p>202 rows × 1306 columns</p>\n</div>"
          },
          "metadata": {}
        }
      ],
      "execution_count": 15
    },
    {
      "cell_type": "code",
      "source": "# Sum the taxonomy counts across all runs in the study\nitsone_taxonomies['study_total'] = itsone_taxonomies.filter(like=\"ERR\").sum(axis=1)\n\n# Limit to phyla in the bacteria superkingdom\nitsone_bacteria = itsone_taxonomies[itsone_taxonomies.superkingdom == 'Bacteria']\nitsone_bacteria.set_index('phylum', inplace=True)\n\n# Show just the most prevalent phyla\nitsone_bacteria.sort_values(by=\"study_total\", ascending=False).head()",
      "metadata": {
        "trusted": true
      },
      "outputs": [
        {
          "execution_count": 16,
          "output_type": "execute_result",
          "data": {
            "text/plain": "               superkingdom     kingdom  ERR5008478_MERGED_FASTQ  \\\nphylum                                                             \nProteobacteria     Bacteria  Unassigned                       37   \nPlanctomycetes     Bacteria  Unassigned                       20   \nChloroflexi        Bacteria  Unassigned                        0   \nBacteroidetes      Bacteria  Unassigned                       11   \nAcidobacteria      Bacteria  Unassigned                        8   \n\n                ERR3684824_MERGED_FASTQ  ERR3684808_MERGED_FASTQ  \\\nphylum                                                             \nProteobacteria                    33776                    16122   \nPlanctomycetes                        3                      303   \nChloroflexi                           1                       10   \nBacteroidetes                        17                     1332   \nAcidobacteria                         4                        9   \n\n                ERR3630748_MERGED_FASTQ  ERR3630676_MERGED_FASTQ  \\\nphylum                                                             \nProteobacteria                        0                        0   \nPlanctomycetes                        0                        0   \nChloroflexi                           0                        0   \nBacteroidetes                         0                        0   \nAcidobacteria                         2                        1   \n\n                ERR3630672_MERGED_FASTQ  ERR3630669_MERGED_FASTQ  \\\nphylum                                                             \nProteobacteria                   213496                   174258   \nPlanctomycetes                    55005                    53880   \nChloroflexi                       16231                    10801   \nBacteroidetes                     17983                    30774   \nAcidobacteria                     49711                    37510   \n\n                ERR3630659_MERGED_FASTQ  ...  ERR3684836_MERGED_FASTQ  \\\nphylum                                   ...                            \nProteobacteria                        0  ...                        0   \nPlanctomycetes                        0  ...                        0   \nChloroflexi                           1  ...                        0   \nBacteroidetes                         0  ...                        0   \nAcidobacteria                         0  ...                        0   \n\n                ERR3684832_MERGED_FASTQ  ERR3684828_MERGED_FASTQ  \\\nphylum                                                             \nProteobacteria                        0                        0   \nPlanctomycetes                        0                        0   \nChloroflexi                           0                        0   \nBacteroidetes                         0                        0   \nAcidobacteria                         0                        0   \n\n                ERR3684820_MERGED_FASTQ  ERR3684817_MERGED_FASTQ  \\\nphylum                                                             \nProteobacteria                        0                        0   \nPlanctomycetes                        0                        0   \nChloroflexi                           0                        0   \nBacteroidetes                         0                        0   \nAcidobacteria                         0                        0   \n\n                ERR3684816_MERGED_FASTQ  ERR3684814_MERGED_FASTQ  \\\nphylum                                                             \nProteobacteria                      422                   139642   \nPlanctomycetes                        0                        1   \nChloroflexi                           0                        3   \nBacteroidetes                         0                        4   \nAcidobacteria                         0                        4   \n\n                ERR3684812_MERGED_FASTQ  ERR3684811_MERGED_FASTQ  study_total  \nphylum                                                                         \nProteobacteria                   882782                        0    114774122  \nPlanctomycetes                        6                        0     42091107  \nChloroflexi                           7                        0     20230213  \nBacteroidetes                        19                        0     19931577  \nAcidobacteria                        17                        0     17238080  \n\n[5 rows x 1306 columns]",
            "text/html": "<div>\n<style scoped>\n    .dataframe tbody tr th:only-of-type {\n        vertical-align: middle;\n    }\n\n    .dataframe tbody tr th {\n        vertical-align: top;\n    }\n\n    .dataframe thead th {\n        text-align: right;\n    }\n</style>\n<table border=\"1\" class=\"dataframe\">\n  <thead>\n    <tr style=\"text-align: right;\">\n      <th></th>\n      <th>superkingdom</th>\n      <th>kingdom</th>\n      <th>ERR5008478_MERGED_FASTQ</th>\n      <th>ERR3684824_MERGED_FASTQ</th>\n      <th>ERR3684808_MERGED_FASTQ</th>\n      <th>ERR3630748_MERGED_FASTQ</th>\n      <th>ERR3630676_MERGED_FASTQ</th>\n      <th>ERR3630672_MERGED_FASTQ</th>\n      <th>ERR3630669_MERGED_FASTQ</th>\n      <th>ERR3630659_MERGED_FASTQ</th>\n      <th>...</th>\n      <th>ERR3684836_MERGED_FASTQ</th>\n      <th>ERR3684832_MERGED_FASTQ</th>\n      <th>ERR3684828_MERGED_FASTQ</th>\n      <th>ERR3684820_MERGED_FASTQ</th>\n      <th>ERR3684817_MERGED_FASTQ</th>\n      <th>ERR3684816_MERGED_FASTQ</th>\n      <th>ERR3684814_MERGED_FASTQ</th>\n      <th>ERR3684812_MERGED_FASTQ</th>\n      <th>ERR3684811_MERGED_FASTQ</th>\n      <th>study_total</th>\n    </tr>\n    <tr>\n      <th>phylum</th>\n      <th></th>\n      <th></th>\n      <th></th>\n      <th></th>\n      <th></th>\n      <th></th>\n      <th></th>\n      <th></th>\n      <th></th>\n      <th></th>\n      <th></th>\n      <th></th>\n      <th></th>\n      <th></th>\n      <th></th>\n      <th></th>\n      <th></th>\n      <th></th>\n      <th></th>\n      <th></th>\n      <th></th>\n    </tr>\n  </thead>\n  <tbody>\n    <tr>\n      <th>Proteobacteria</th>\n      <td>Bacteria</td>\n      <td>Unassigned</td>\n      <td>37</td>\n      <td>33776</td>\n      <td>16122</td>\n      <td>0</td>\n      <td>0</td>\n      <td>213496</td>\n      <td>174258</td>\n      <td>0</td>\n      <td>...</td>\n      <td>0</td>\n      <td>0</td>\n      <td>0</td>\n      <td>0</td>\n      <td>0</td>\n      <td>422</td>\n      <td>139642</td>\n      <td>882782</td>\n      <td>0</td>\n      <td>114774122</td>\n    </tr>\n    <tr>\n      <th>Planctomycetes</th>\n      <td>Bacteria</td>\n      <td>Unassigned</td>\n      <td>20</td>\n      <td>3</td>\n      <td>303</td>\n      <td>0</td>\n      <td>0</td>\n      <td>55005</td>\n      <td>53880</td>\n      <td>0</td>\n      <td>...</td>\n      <td>0</td>\n      <td>0</td>\n      <td>0</td>\n      <td>0</td>\n      <td>0</td>\n      <td>0</td>\n      <td>1</td>\n      <td>6</td>\n      <td>0</td>\n      <td>42091107</td>\n    </tr>\n    <tr>\n      <th>Chloroflexi</th>\n      <td>Bacteria</td>\n      <td>Unassigned</td>\n      <td>0</td>\n      <td>1</td>\n      <td>10</td>\n      <td>0</td>\n      <td>0</td>\n      <td>16231</td>\n      <td>10801</td>\n      <td>1</td>\n      <td>...</td>\n      <td>0</td>\n      <td>0</td>\n      <td>0</td>\n      <td>0</td>\n      <td>0</td>\n      <td>0</td>\n      <td>3</td>\n      <td>7</td>\n      <td>0</td>\n      <td>20230213</td>\n    </tr>\n    <tr>\n      <th>Bacteroidetes</th>\n      <td>Bacteria</td>\n      <td>Unassigned</td>\n      <td>11</td>\n      <td>17</td>\n      <td>1332</td>\n      <td>0</td>\n      <td>0</td>\n      <td>17983</td>\n      <td>30774</td>\n      <td>0</td>\n      <td>...</td>\n      <td>0</td>\n      <td>0</td>\n      <td>0</td>\n      <td>0</td>\n      <td>0</td>\n      <td>0</td>\n      <td>4</td>\n      <td>19</td>\n      <td>0</td>\n      <td>19931577</td>\n    </tr>\n    <tr>\n      <th>Acidobacteria</th>\n      <td>Bacteria</td>\n      <td>Unassigned</td>\n      <td>8</td>\n      <td>4</td>\n      <td>9</td>\n      <td>2</td>\n      <td>1</td>\n      <td>49711</td>\n      <td>37510</td>\n      <td>0</td>\n      <td>...</td>\n      <td>0</td>\n      <td>0</td>\n      <td>0</td>\n      <td>0</td>\n      <td>0</td>\n      <td>0</td>\n      <td>4</td>\n      <td>17</td>\n      <td>0</td>\n      <td>17238080</td>\n    </tr>\n  </tbody>\n</table>\n<p>5 rows × 1306 columns</p>\n</div>"
          },
          "metadata": {}
        }
      ],
      "execution_count": 16
    },
    {
      "cell_type": "markdown",
      "source": "## Task 1.4: Think about the caveats...\n\n**Was what we just did (summing bacterial tax counts across all samples of the study) a good idea?**\n\nThings to consider: (Hint: Check the study page's publication annotations from Schauberger _et al._)\n1. Were all of the sequencing runs targetting the 16s SSU region? \n2. Were the primers used likely to sequence the same taxa across all samples?\n\n<details>\n<summary>Tell me</summary>\nThe publication mentions that all samples were prepared with primers targetting 16s rRNA gene, so the SSU taxonomic analysis summary is fair to use across the study. However, it also mentions that some samples were prepared with primers specific to archaea, so there is likely a bias to different taxa in different samples. This means our basic summation across all samples is likely not an unbiased measurement.\n</details>",
      "metadata": {}
    },
    {
      "cell_type": "markdown",
      "source": "---\n\n# Part 2: Exploring MGnify Analyses\n\n## Task 2.1: Search for a MGnify analysis\n\nLet's say we're particularly interested in Chloroflexi phylum (also known as Chloroflexota) – the third most prevalent Bacterial phylum in the study we were looking at in Part 1. \n\nGo to the [MGnify website](https://www.ebi.ac.uk/metagenomics/search/analyses), and **use the \"Text Search\" feature to search for _Sample analyses_, that contain Organisms in the Bacteria > Chloroflexi lineage, also collected from the Environmental > Aquatic > Marine > Sediment biome. Limit the search to samples analysed with MGnify's pipeline version 5.0 (the latest).**",
      "metadata": {}
    },
    {
      "cell_type": "code",
      "source": "from utils.quiz import check_answer, _encode_answer, question\n\nquestion(\n    \"Look at the 'Experiment type' filter on the left of the search results: there are some <b>assembly</b> analyses.<br/>Why might we want to look into these next?\",\n    \"\",\n    [b'dG8gZGlzY292ZXIgZnVuY3Rpb25hbCBhbm5vdGF0aW9ucw=='],\n    [\"To browse complete genomes\", \"To get more taxonomic diversity\", \"To discover functional annotations\"]\n)",
      "metadata": {
        "trusted": true,
        "jupyter": {
          "source_hidden": true
        }
      },
      "outputs": [
        {
          "output_type": "display_data",
          "data": {
            "text/plain": "Tab(children=(VBox(children=(HTML(value=\"Look at the 'Experiment type' filter on the left of the search result…",
            "application/vnd.jupyter.widget-view+json": {
              "version_major": 2,
              "version_minor": 0,
              "model_id": "12b70b6ee6784b61b73f99c7d736dc90"
            }
          },
          "metadata": {}
        }
      ],
      "execution_count": 6
    },
    {
      "cell_type": "markdown",
      "source": "## Task 2.2: Find annotations within an analysis\n**Limit your search to just those Assembly analyses.**\n\nThere are more filters we could use here, like location, or filtering to find analysis where a specific GO or InterPro functional annotation has been found on the assembled contigs.\n\nFor now, **scroll through the list to find MGYA00594115, and click it to open the analysis page.**",
      "metadata": {}
    },
    {
      "cell_type": "code",
      "source": "from utils.quiz import check_answer, _encode_answer, question\n\nquestion(\n    \"According to the charts in the <b>Taxonomic analysis</b> section's SSU results, what fraction of the phylum composition is assigned to Chloroflexi?\",\n    \"x.yy %\",\n    [b'NC40OSAl', b'NC40OSU=', b'NC40OQ=='],\n)",
      "metadata": {
        "trusted": true,
        "jupyter": {
          "source_hidden": true
        }
      },
      "outputs": [
        {
          "output_type": "display_data",
          "data": {
            "text/plain": "Tab(children=(VBox(children=(HTML(value=\"According to the charts in the <b>Taxonomic analysis</b> section's SS…",
            "application/vnd.jupyter.widget-view+json": {
              "version_major": 2,
              "version_minor": 0,
              "model_id": "afa250607839454eb29da493e307b351"
            }
          },
          "metadata": {}
        }
      ],
      "execution_count": 13
    },
    {
      "cell_type": "markdown",
      "source": "Now turn to the functional analysis information, in particular **the Pathways/Systems section**, which shows functional annotations of the metagenomic assembly, based on comparison of proteins coding sequences found in the assembly's contigs to databases of protein function.",
      "metadata": {}
    },
    {
      "cell_type": "code",
      "source": "from utils.quiz import check_answer, _encode_answer, question\n\nquestion(\n    \"What is the first 'complete' KEGG Module for this assembly analysis?<br/>(Complete means all of the Kegg Orthologs in that module are present in the assembly.)\",\n    \"Mxxxxx%\",\n    [b'bTAwMDAx', b'MDAwMDE='],\n)",
      "metadata": {
        "trusted": true,
        "jupyter": {
          "source_hidden": true
        }
      },
      "outputs": [
        {
          "output_type": "display_data",
          "data": {
            "text/plain": "Tab(children=(VBox(children=(HTML(value=\"What is the first 'complete' KEGG Module for this assembly analysis?<…",
            "application/vnd.jupyter.widget-view+json": {
              "version_major": 2,
              "version_minor": 0,
              "model_id": "a9d92e3d48e94825b3a73dfb964ff086"
            }
          },
          "metadata": {}
        }
      ],
      "execution_count": 26
    },
    {
      "cell_type": "markdown",
      "source": "## Task 2.3: Think about what this means...\n\n**Does this mean that the Kegg Module you just found is necesarily a function performed by organisms within the taxa we originally searched for (Chloroflexi)?**\n\n_Consider that the functional annotations are on contigs from the entire assembly..._",
      "metadata": {}
    },
    {
      "cell_type": "markdown",
      "source": "---\n\n# Part 3: Metagenomic Assembled Genomes\n\nTo find functional annotations for a specific species, we can use metagenome assembly genomes (MAGs) – draft genomes made by taxonomically binning assembled contigs.\n[MGnify Genomes](https://www.ebi.ac.uk/metagenomics/browse/genomes) is MGnify's resource for MAGs, where MAGs derived from various biomes are organised into species-level clusters and annotated with a suite of functional annotation tools.\n\n## Task 3.1: Find Chloroflexi MAGs\n\n**Go to the [MGnify Genomes website](https://www.ebi.ac.uk/metagenomics/browse/genomes)**.\n\nGiven the biome we started this journey from, **which of the MGnify Genomes catalogues would you guess we're mostly like to find MAGs from the Chloroflexi phylum in?**\n\nLet's check. **Go to the \"All genomes\" list, and use the Filter to search for `Chloroflex`** (since this will catch lineages using either the `Chloroflexi` or `Chloroflexota` naming scheme).",
      "metadata": {}
    },
    {
      "cell_type": "code",
      "source": "from utils.quiz import check_answer, _encode_answer, question\n\nquestion(\n    \"Which catalogue are most of the MAGs found in?\",\n    \"\",\n    [b'bWFyaW5l'],\n    [\"Marine\", \"Human Oral\", \"Zebrafish fecal\"]\n)",
      "metadata": {
        "trusted": true,
        "jupyter": {
          "source_hidden": true
        }
      },
      "outputs": [
        {
          "output_type": "display_data",
          "data": {
            "text/plain": "Tab(children=(VBox(children=(HTML(value='Which catalogue are most of the MAGs found in?'), Dropdown(descriptio…",
            "application/vnd.jupyter.widget-view+json": {
              "version_major": 2,
              "version_minor": 0,
              "model_id": "224d49b403cf492ca4333c181874b38f"
            }
          },
          "metadata": {}
        }
      ],
      "execution_count": 19
    },
    {
      "cell_type": "markdown",
      "source": "## Task 3.2: Check functional annotations of a MAG\n\nFrom the list, **open the MAG for the species `Casp-Chloro-G4`**.",
      "metadata": {}
    },
    {
      "cell_type": "code",
      "source": "from utils.quiz import check_answer, _encode_answer, question\n\nquestion(\n    \"What is the most prevalent KEGG Module for this genome?\",\n    \"Mxxxxx%\",\n    [b'bTAwMTc4', b'MDAxNzg='],\n)",
      "metadata": {
        "trusted": true,
        "jupyter": {
          "source_hidden": true
        }
      },
      "outputs": [
        {
          "output_type": "display_data",
          "data": {
            "text/plain": "Tab(children=(VBox(children=(HTML(value='What is the most prevalent KEGG Module for this genome?'), Text(value…",
            "application/vnd.jupyter.widget-view+json": {
              "version_major": 2,
              "version_minor": 0,
              "model_id": "04c659daf9d74c939786ff1c77a04574"
            }
          },
          "metadata": {}
        }
      ],
      "execution_count": 30
    },
    {
      "cell_type": "markdown",
      "source": "_Note that there are \"Download\" files available for both the assembly analysis we looked at before, and for this genome analysis, that include full listings of the Kegg annotations amongst others. You could download these files similarly to the study summary TSV file we analysed in Part 1, to compare these programmatically._",
      "metadata": {}
    },
    {
      "cell_type": "markdown",
      "source": "## Task 3.3: Cross-catalogue searching\nLooking at all the data you have available for this MAG, and exploring the other features available in the MGnify Genomes resource, can you work out how you might search for genomes similar to this one in other catalogues?\n\n<details>\n<summary>Tell me</summary>\nThe <a href=\"https://www.ebi.ac.uk/metagenomics/browse/genomes?browse-by=mag-search\">\"MAG search\" feature</a> uses <a href=\"https://sourmash.readthedocs.io/en/latest/\">Sourmash</a> to search genomes against genomes, based on sequence similarity. You could download the FASTA file of the MAG MGYG000297014, from its Downloads tab, and then upload this as the query genome to the MAG Search, selecting all catalogues as the target. At the time of writing, this search will only match the genome we downloaded from the marine catalogue.\n</details>",
      "metadata": {}
    },
    {
      "cell_type": "markdown",
      "source": "---\n\n# Further reading:\n\n### Latest MGnify publication\n\n> Richardson L, Allen B, Baldi G, et al. [MGnify: the microbiome sequence data analysis resource in 2023.](https://europepmc.org/article/PMC/PMC9825492) Nucleic Acids Research. 2023 Jan;51(D1):D753-D759. DOI: 10.1093/nar/gkac1080. PMID: 36477304; PMCID: PMC9825492.\n\n### MGnify Genomes publication\n> Gurbich TA, Almeida A, Beracochea M, et al. [MGnify Genomes: A Resource for Biome-specific Microbial Genome Catalogues.](https://europepmc.org/article/MED/36806692) Journal of Molecular Biology. 2023 Jul;435(14):168016. DOI: 10.1016/j.jmb.2023.168016. PMID: 36806692; PMCID: PMC10318097.\n\n\n### Documentation\n> [docs.mgnify.org](https://docs.mgnify.org)\n\n### MGnify training courses\n> [MGnify on EBI Training](https://www.ebi.ac.uk/training/search-results?query=mgnify)\n\n### Updates\n> [@MGnifyDB](https://twitter.com/mgnifyDB)",
      "metadata": {}
    },
    {
      "cell_type": "code",
      "source": "",
      "metadata": {
        "trusted": true
      },
      "outputs": [],
      "execution_count": null
    }
  ]
}